{
 "cells": [
  {
   "cell_type": "code",
   "execution_count": 8,
   "metadata": {
    "ExecuteTime": {
     "end_time": "2023-10-01T19:02:27.317428858Z",
     "start_time": "2023-10-01T19:02:27.195895516Z"
    }
   },
   "outputs": [],
   "source": [
    "import pandas as pd\n",
    "import numpy as np\n",
    "import matplotlib.pyplot as plt\n",
    "import seaborn as sns\n",
    "import warnings\n",
    "import pickle\n",
    "import bz2\n",
    "warnings.filterwarnings('ignore')\n",
    "\n",
    "%matplotlib inline"
   ]
  },
  {
   "cell_type": "markdown",
   "source": [
    "### <font color=\"green\">Loading Data</font>"
   ],
   "metadata": {
    "collapsed": false
   }
  },
  {
   "cell_type": "code",
   "execution_count": 18,
   "outputs": [],
   "source": [
    "def load_data(file):\n",
    "    data = bz2.BZ2File(file, \"r\")\n",
    "    data = pickle.load(data)\n",
    "    return data"
   ],
   "metadata": {
    "collapsed": false,
    "ExecuteTime": {
     "end_time": "2023-10-01T19:07:35.772684988Z",
     "start_time": "2023-10-01T19:07:35.696208364Z"
    }
   }
  },
  {
   "cell_type": "code",
   "execution_count": 20,
   "metadata": {
    "ExecuteTime": {
     "end_time": "2023-10-01T19:12:12.733468333Z",
     "start_time": "2023-10-01T19:11:21.215948544Z"
    }
   },
   "outputs": [],
   "source": [
    "PATH_TRAIN = '../data/raw/act_train.pbz2'\n",
    "PATH_TEST = '../data/raw/act_test.pbz2'\n",
    "PATH_PEOPLE = '../data/raw/people.pbz2'\n",
    "train = load_data(PATH_TRAIN)\n",
    "test = load_data(PATH_TEST)\n",
    "people = load_data(PATH_PEOPLE)"
   ]
  },
  {
   "cell_type": "code",
   "execution_count": 21,
   "metadata": {
    "ExecuteTime": {
     "end_time": "2023-10-01T19:13:09.395429497Z",
     "start_time": "2023-10-01T19:13:09.284557529Z"
    }
   },
   "outputs": [
    {
     "data": {
      "text/plain": "  people_id   activity_id        date activity_category char_1 char_2 char_3  \\\n0   ppl_100  act2_1734928  2023-08-26            type 4    NaN    NaN    NaN   \n1   ppl_100  act2_2434093  2022-09-27            type 2    NaN    NaN    NaN   \n2   ppl_100  act2_3404049  2022-09-27            type 2    NaN    NaN    NaN   \n3   ppl_100  act2_3651215  2023-08-04            type 2    NaN    NaN    NaN   \n4   ppl_100  act2_4109017  2023-08-26            type 2    NaN    NaN    NaN   \n\n  char_4 char_5 char_6 char_7 char_8 char_9  char_10  outcome  \n0    NaN    NaN    NaN    NaN    NaN    NaN  type 76        0  \n1    NaN    NaN    NaN    NaN    NaN    NaN   type 1        0  \n2    NaN    NaN    NaN    NaN    NaN    NaN   type 1        0  \n3    NaN    NaN    NaN    NaN    NaN    NaN   type 1        0  \n4    NaN    NaN    NaN    NaN    NaN    NaN   type 1        0  ",
      "text/html": "<div>\n<style scoped>\n    .dataframe tbody tr th:only-of-type {\n        vertical-align: middle;\n    }\n\n    .dataframe tbody tr th {\n        vertical-align: top;\n    }\n\n    .dataframe thead th {\n        text-align: right;\n    }\n</style>\n<table border=\"1\" class=\"dataframe\">\n  <thead>\n    <tr style=\"text-align: right;\">\n      <th></th>\n      <th>people_id</th>\n      <th>activity_id</th>\n      <th>date</th>\n      <th>activity_category</th>\n      <th>char_1</th>\n      <th>char_2</th>\n      <th>char_3</th>\n      <th>char_4</th>\n      <th>char_5</th>\n      <th>char_6</th>\n      <th>char_7</th>\n      <th>char_8</th>\n      <th>char_9</th>\n      <th>char_10</th>\n      <th>outcome</th>\n    </tr>\n  </thead>\n  <tbody>\n    <tr>\n      <th>0</th>\n      <td>ppl_100</td>\n      <td>act2_1734928</td>\n      <td>2023-08-26</td>\n      <td>type 4</td>\n      <td>NaN</td>\n      <td>NaN</td>\n      <td>NaN</td>\n      <td>NaN</td>\n      <td>NaN</td>\n      <td>NaN</td>\n      <td>NaN</td>\n      <td>NaN</td>\n      <td>NaN</td>\n      <td>type 76</td>\n      <td>0</td>\n    </tr>\n    <tr>\n      <th>1</th>\n      <td>ppl_100</td>\n      <td>act2_2434093</td>\n      <td>2022-09-27</td>\n      <td>type 2</td>\n      <td>NaN</td>\n      <td>NaN</td>\n      <td>NaN</td>\n      <td>NaN</td>\n      <td>NaN</td>\n      <td>NaN</td>\n      <td>NaN</td>\n      <td>NaN</td>\n      <td>NaN</td>\n      <td>type 1</td>\n      <td>0</td>\n    </tr>\n    <tr>\n      <th>2</th>\n      <td>ppl_100</td>\n      <td>act2_3404049</td>\n      <td>2022-09-27</td>\n      <td>type 2</td>\n      <td>NaN</td>\n      <td>NaN</td>\n      <td>NaN</td>\n      <td>NaN</td>\n      <td>NaN</td>\n      <td>NaN</td>\n      <td>NaN</td>\n      <td>NaN</td>\n      <td>NaN</td>\n      <td>type 1</td>\n      <td>0</td>\n    </tr>\n    <tr>\n      <th>3</th>\n      <td>ppl_100</td>\n      <td>act2_3651215</td>\n      <td>2023-08-04</td>\n      <td>type 2</td>\n      <td>NaN</td>\n      <td>NaN</td>\n      <td>NaN</td>\n      <td>NaN</td>\n      <td>NaN</td>\n      <td>NaN</td>\n      <td>NaN</td>\n      <td>NaN</td>\n      <td>NaN</td>\n      <td>type 1</td>\n      <td>0</td>\n    </tr>\n    <tr>\n      <th>4</th>\n      <td>ppl_100</td>\n      <td>act2_4109017</td>\n      <td>2023-08-26</td>\n      <td>type 2</td>\n      <td>NaN</td>\n      <td>NaN</td>\n      <td>NaN</td>\n      <td>NaN</td>\n      <td>NaN</td>\n      <td>NaN</td>\n      <td>NaN</td>\n      <td>NaN</td>\n      <td>NaN</td>\n      <td>type 1</td>\n      <td>0</td>\n    </tr>\n  </tbody>\n</table>\n</div>"
     },
     "execution_count": 21,
     "metadata": {},
     "output_type": "execute_result"
    }
   ],
   "source": [
    "train.head()"
   ]
  },
  {
   "cell_type": "code",
   "execution_count": 4,
   "metadata": {
    "ExecuteTime": {
     "end_time": "2023-09-30T15:16:20.510427848Z",
     "start_time": "2023-09-30T15:16:20.249460300Z"
    }
   },
   "outputs": [
    {
     "data": {
      "text/plain": "         people_id   activity_id        date activity_category char_1 char_2  \\\n2197286  ppl_99994  act2_4668076  2023-06-16            type 4    NaN    NaN   \n2197287  ppl_99994  act2_4743548  2023-03-30            type 4    NaN    NaN   \n2197288  ppl_99994   act2_536973  2023-01-19            type 2    NaN    NaN   \n2197289  ppl_99994   act2_688656  2023-05-02            type 4    NaN    NaN   \n2197290  ppl_99994   act2_715089  2023-06-15            type 2    NaN    NaN   \n\n        char_3 char_4 char_5 char_6 char_7 char_8 char_9    char_10  outcome  \n2197286    NaN    NaN    NaN    NaN    NaN    NaN    NaN   type 418        1  \n2197287    NaN    NaN    NaN    NaN    NaN    NaN    NaN  type 1832        1  \n2197288    NaN    NaN    NaN    NaN    NaN    NaN    NaN     type 1        1  \n2197289    NaN    NaN    NaN    NaN    NaN    NaN    NaN   type 199        1  \n2197290    NaN    NaN    NaN    NaN    NaN    NaN    NaN     type 1        1  ",
      "text/html": "<div>\n<style scoped>\n    .dataframe tbody tr th:only-of-type {\n        vertical-align: middle;\n    }\n\n    .dataframe tbody tr th {\n        vertical-align: top;\n    }\n\n    .dataframe thead th {\n        text-align: right;\n    }\n</style>\n<table border=\"1\" class=\"dataframe\">\n  <thead>\n    <tr style=\"text-align: right;\">\n      <th></th>\n      <th>people_id</th>\n      <th>activity_id</th>\n      <th>date</th>\n      <th>activity_category</th>\n      <th>char_1</th>\n      <th>char_2</th>\n      <th>char_3</th>\n      <th>char_4</th>\n      <th>char_5</th>\n      <th>char_6</th>\n      <th>char_7</th>\n      <th>char_8</th>\n      <th>char_9</th>\n      <th>char_10</th>\n      <th>outcome</th>\n    </tr>\n  </thead>\n  <tbody>\n    <tr>\n      <th>2197286</th>\n      <td>ppl_99994</td>\n      <td>act2_4668076</td>\n      <td>2023-06-16</td>\n      <td>type 4</td>\n      <td>NaN</td>\n      <td>NaN</td>\n      <td>NaN</td>\n      <td>NaN</td>\n      <td>NaN</td>\n      <td>NaN</td>\n      <td>NaN</td>\n      <td>NaN</td>\n      <td>NaN</td>\n      <td>type 418</td>\n      <td>1</td>\n    </tr>\n    <tr>\n      <th>2197287</th>\n      <td>ppl_99994</td>\n      <td>act2_4743548</td>\n      <td>2023-03-30</td>\n      <td>type 4</td>\n      <td>NaN</td>\n      <td>NaN</td>\n      <td>NaN</td>\n      <td>NaN</td>\n      <td>NaN</td>\n      <td>NaN</td>\n      <td>NaN</td>\n      <td>NaN</td>\n      <td>NaN</td>\n      <td>type 1832</td>\n      <td>1</td>\n    </tr>\n    <tr>\n      <th>2197288</th>\n      <td>ppl_99994</td>\n      <td>act2_536973</td>\n      <td>2023-01-19</td>\n      <td>type 2</td>\n      <td>NaN</td>\n      <td>NaN</td>\n      <td>NaN</td>\n      <td>NaN</td>\n      <td>NaN</td>\n      <td>NaN</td>\n      <td>NaN</td>\n      <td>NaN</td>\n      <td>NaN</td>\n      <td>type 1</td>\n      <td>1</td>\n    </tr>\n    <tr>\n      <th>2197289</th>\n      <td>ppl_99994</td>\n      <td>act2_688656</td>\n      <td>2023-05-02</td>\n      <td>type 4</td>\n      <td>NaN</td>\n      <td>NaN</td>\n      <td>NaN</td>\n      <td>NaN</td>\n      <td>NaN</td>\n      <td>NaN</td>\n      <td>NaN</td>\n      <td>NaN</td>\n      <td>NaN</td>\n      <td>type 199</td>\n      <td>1</td>\n    </tr>\n    <tr>\n      <th>2197290</th>\n      <td>ppl_99994</td>\n      <td>act2_715089</td>\n      <td>2023-06-15</td>\n      <td>type 2</td>\n      <td>NaN</td>\n      <td>NaN</td>\n      <td>NaN</td>\n      <td>NaN</td>\n      <td>NaN</td>\n      <td>NaN</td>\n      <td>NaN</td>\n      <td>NaN</td>\n      <td>NaN</td>\n      <td>type 1</td>\n      <td>1</td>\n    </tr>\n  </tbody>\n</table>\n</div>"
     },
     "execution_count": 4,
     "metadata": {},
     "output_type": "execute_result"
    }
   ],
   "source": [
    "train.tail()"
   ]
  },
  {
   "cell_type": "code",
   "execution_count": 22,
   "metadata": {
    "ExecuteTime": {
     "end_time": "2023-10-01T19:45:06.996595782Z",
     "start_time": "2023-10-01T19:45:06.949088708Z"
    }
   },
   "outputs": [
    {
     "data": {
      "text/plain": "Index(['people_id', 'activity_id', 'date', 'activity_category', 'char_1',\n       'char_2', 'char_3', 'char_4', 'char_5', 'char_6', 'char_7', 'char_8',\n       'char_9', 'char_10', 'outcome'],\n      dtype='object')"
     },
     "execution_count": 22,
     "metadata": {},
     "output_type": "execute_result"
    }
   ],
   "source": [
    "train.columns"
   ]
  },
  {
   "cell_type": "code",
   "execution_count": 23,
   "metadata": {
    "ExecuteTime": {
     "end_time": "2023-10-01T19:45:14.998531939Z",
     "start_time": "2023-10-01T19:45:14.929243365Z"
    }
   },
   "outputs": [
    {
     "name": "stdout",
     "output_type": "stream",
     "text": [
      "The length of the train row: 2197291\n",
      "The length of the train column: 15\n"
     ]
    }
   ],
   "source": [
    "row, col = train.shape\n",
    "print('The length of the train row:', row)\n",
    "print('The length of the train column:', col)"
   ]
  },
  {
   "cell_type": "code",
   "execution_count": 24,
   "metadata": {
    "ExecuteTime": {
     "end_time": "2023-10-01T19:45:18.199500690Z",
     "start_time": "2023-10-01T19:45:18.082825083Z"
    }
   },
   "outputs": [
    {
     "name": "stdout",
     "output_type": "stream",
     "text": [
      "<class 'pandas.core.frame.DataFrame'>\n",
      "RangeIndex: 2197291 entries, 0 to 2197290\n",
      "Data columns (total 15 columns):\n",
      " #   Column             Dtype \n",
      "---  ------             ----- \n",
      " 0   people_id          object\n",
      " 1   activity_id        object\n",
      " 2   date               object\n",
      " 3   activity_category  object\n",
      " 4   char_1             object\n",
      " 5   char_2             object\n",
      " 6   char_3             object\n",
      " 7   char_4             object\n",
      " 8   char_5             object\n",
      " 9   char_6             object\n",
      " 10  char_7             object\n",
      " 11  char_8             object\n",
      " 12  char_9             object\n",
      " 13  char_10            object\n",
      " 14  outcome            int64 \n",
      "dtypes: int64(1), object(14)\n",
      "memory usage: 251.5+ MB\n"
     ]
    }
   ],
   "source": [
    "train.info()"
   ]
  },
  {
   "cell_type": "code",
   "execution_count": 26,
   "metadata": {
    "ExecuteTime": {
     "end_time": "2023-10-01T19:47:47.814823879Z",
     "start_time": "2023-10-01T19:47:47.712569360Z"
    }
   },
   "outputs": [
    {
     "data": {
      "text/plain": "people_id            0.000000\nactivity_id          0.000000\ndate                 0.000000\nactivity_category    0.000000\nchar_1               0.928268\nchar_2               0.928268\nchar_3               0.928268\nchar_4               0.928268\nchar_5               0.928268\nchar_6               0.928268\nchar_7               0.928268\nchar_8               0.928268\nchar_9               0.928268\nchar_10              0.071732\noutcome              0.000000\ndtype: float64"
     },
     "execution_count": 26,
     "metadata": {},
     "output_type": "execute_result"
    }
   ],
   "source": [
    "train.isna().sum() / train.shape[0] # ratio of the null values for each attribute"
   ]
  },
  {
   "cell_type": "markdown",
   "source": [
    "<p>We can see clearly below the bottom of the series above that the columns names \"char_#\" has\n",
    "about 93% of its values being null.\n",
    "\n",
    "Let's explore the people dataframe and see what we've got there too.</p>"
   ],
   "metadata": {
    "collapsed": false
   }
  },
  {
   "cell_type": "code",
   "execution_count": 27,
   "outputs": [
    {
     "data": {
      "text/plain": "    people_id  char_1      group_1  char_2        date   char_3   char_4  \\\n0     ppl_100  type 2  group 17304  type 2  2021-06-29   type 5   type 5   \n1  ppl_100002  type 2   group 8688  type 3  2021-01-06  type 28   type 9   \n2  ppl_100003  type 2  group 33592  type 3  2022-06-10   type 4   type 8   \n3  ppl_100004  type 2  group 22593  type 3  2022-07-20  type 40  type 25   \n4  ppl_100006  type 2   group 6534  type 3  2022-07-27  type 40  type 25   \n\n   char_5  char_6   char_7  ... char_29 char_30  char_31  char_32  char_33  \\\n0  type 5  type 3  type 11  ...   False    True     True    False    False   \n1  type 5  type 3  type 11  ...   False    True     True     True     True   \n2  type 5  type 2   type 5  ...   False   False     True     True     True   \n3  type 9  type 4  type 16  ...    True    True     True     True     True   \n4  type 9  type 3   type 8  ...   False   False     True    False    False   \n\n   char_34  char_35  char_36  char_37  char_38  \n0     True     True     True    False       36  \n1     True     True     True    False       76  \n2     True    False     True     True       99  \n3     True     True     True     True       76  \n4    False     True     True    False       84  \n\n[5 rows x 41 columns]",
      "text/html": "<div>\n<style scoped>\n    .dataframe tbody tr th:only-of-type {\n        vertical-align: middle;\n    }\n\n    .dataframe tbody tr th {\n        vertical-align: top;\n    }\n\n    .dataframe thead th {\n        text-align: right;\n    }\n</style>\n<table border=\"1\" class=\"dataframe\">\n  <thead>\n    <tr style=\"text-align: right;\">\n      <th></th>\n      <th>people_id</th>\n      <th>char_1</th>\n      <th>group_1</th>\n      <th>char_2</th>\n      <th>date</th>\n      <th>char_3</th>\n      <th>char_4</th>\n      <th>char_5</th>\n      <th>char_6</th>\n      <th>char_7</th>\n      <th>...</th>\n      <th>char_29</th>\n      <th>char_30</th>\n      <th>char_31</th>\n      <th>char_32</th>\n      <th>char_33</th>\n      <th>char_34</th>\n      <th>char_35</th>\n      <th>char_36</th>\n      <th>char_37</th>\n      <th>char_38</th>\n    </tr>\n  </thead>\n  <tbody>\n    <tr>\n      <th>0</th>\n      <td>ppl_100</td>\n      <td>type 2</td>\n      <td>group 17304</td>\n      <td>type 2</td>\n      <td>2021-06-29</td>\n      <td>type 5</td>\n      <td>type 5</td>\n      <td>type 5</td>\n      <td>type 3</td>\n      <td>type 11</td>\n      <td>...</td>\n      <td>False</td>\n      <td>True</td>\n      <td>True</td>\n      <td>False</td>\n      <td>False</td>\n      <td>True</td>\n      <td>True</td>\n      <td>True</td>\n      <td>False</td>\n      <td>36</td>\n    </tr>\n    <tr>\n      <th>1</th>\n      <td>ppl_100002</td>\n      <td>type 2</td>\n      <td>group 8688</td>\n      <td>type 3</td>\n      <td>2021-01-06</td>\n      <td>type 28</td>\n      <td>type 9</td>\n      <td>type 5</td>\n      <td>type 3</td>\n      <td>type 11</td>\n      <td>...</td>\n      <td>False</td>\n      <td>True</td>\n      <td>True</td>\n      <td>True</td>\n      <td>True</td>\n      <td>True</td>\n      <td>True</td>\n      <td>True</td>\n      <td>False</td>\n      <td>76</td>\n    </tr>\n    <tr>\n      <th>2</th>\n      <td>ppl_100003</td>\n      <td>type 2</td>\n      <td>group 33592</td>\n      <td>type 3</td>\n      <td>2022-06-10</td>\n      <td>type 4</td>\n      <td>type 8</td>\n      <td>type 5</td>\n      <td>type 2</td>\n      <td>type 5</td>\n      <td>...</td>\n      <td>False</td>\n      <td>False</td>\n      <td>True</td>\n      <td>True</td>\n      <td>True</td>\n      <td>True</td>\n      <td>False</td>\n      <td>True</td>\n      <td>True</td>\n      <td>99</td>\n    </tr>\n    <tr>\n      <th>3</th>\n      <td>ppl_100004</td>\n      <td>type 2</td>\n      <td>group 22593</td>\n      <td>type 3</td>\n      <td>2022-07-20</td>\n      <td>type 40</td>\n      <td>type 25</td>\n      <td>type 9</td>\n      <td>type 4</td>\n      <td>type 16</td>\n      <td>...</td>\n      <td>True</td>\n      <td>True</td>\n      <td>True</td>\n      <td>True</td>\n      <td>True</td>\n      <td>True</td>\n      <td>True</td>\n      <td>True</td>\n      <td>True</td>\n      <td>76</td>\n    </tr>\n    <tr>\n      <th>4</th>\n      <td>ppl_100006</td>\n      <td>type 2</td>\n      <td>group 6534</td>\n      <td>type 3</td>\n      <td>2022-07-27</td>\n      <td>type 40</td>\n      <td>type 25</td>\n      <td>type 9</td>\n      <td>type 3</td>\n      <td>type 8</td>\n      <td>...</td>\n      <td>False</td>\n      <td>False</td>\n      <td>True</td>\n      <td>False</td>\n      <td>False</td>\n      <td>False</td>\n      <td>True</td>\n      <td>True</td>\n      <td>False</td>\n      <td>84</td>\n    </tr>\n  </tbody>\n</table>\n<p>5 rows × 41 columns</p>\n</div>"
     },
     "execution_count": 27,
     "metadata": {},
     "output_type": "execute_result"
    }
   ],
   "source": [
    "people.head()"
   ],
   "metadata": {
    "collapsed": false,
    "ExecuteTime": {
     "end_time": "2023-10-01T19:53:19.695753127Z",
     "start_time": "2023-10-01T19:53:19.000756835Z"
    }
   }
  },
  {
   "cell_type": "code",
   "execution_count": 28,
   "outputs": [
    {
     "data": {
      "text/plain": "        people_id  char_1      group_1  char_2        date   char_3   char_4  \\\n189113  ppl_99987  type 1   group 8600  type 1  2022-04-02   type 4   type 6   \n189114   ppl_9999  type 2  group 17304  type 2  2023-02-23   type 6   type 2   \n189115  ppl_99992  type 2  group 17304  type 2  2020-06-25   type 5   type 5   \n189116  ppl_99994  type 2  group 17764  type 3  2023-01-06   type 2   type 7   \n189117  ppl_99997  type 2  group 17304  type 2  2022-03-12  type 40  type 25   \n\n        char_5  char_6   char_7  ... char_29 char_30  char_31  char_32  \\\n189113  type 4  type 3  type 11  ...   False   False    False     True   \n189114  type 8  type 3  type 11  ...   False   False    False    False   \n189115  type 3  type 4  type 16  ...   False   False    False    False   \n189116  type 2  type 1   type 2  ...    True    True     True     True   \n189117  type 9  type 3   type 8  ...   False   False    False    False   \n\n        char_33  char_34  char_35  char_36  char_37  char_38  \n189113    False     True    False     True     True       89  \n189114    False    False    False    False    False        0  \n189115    False    False    False    False    False        0  \n189116    False     True     True     True     True       95  \n189117    False    False    False    False    False       36  \n\n[5 rows x 41 columns]",
      "text/html": "<div>\n<style scoped>\n    .dataframe tbody tr th:only-of-type {\n        vertical-align: middle;\n    }\n\n    .dataframe tbody tr th {\n        vertical-align: top;\n    }\n\n    .dataframe thead th {\n        text-align: right;\n    }\n</style>\n<table border=\"1\" class=\"dataframe\">\n  <thead>\n    <tr style=\"text-align: right;\">\n      <th></th>\n      <th>people_id</th>\n      <th>char_1</th>\n      <th>group_1</th>\n      <th>char_2</th>\n      <th>date</th>\n      <th>char_3</th>\n      <th>char_4</th>\n      <th>char_5</th>\n      <th>char_6</th>\n      <th>char_7</th>\n      <th>...</th>\n      <th>char_29</th>\n      <th>char_30</th>\n      <th>char_31</th>\n      <th>char_32</th>\n      <th>char_33</th>\n      <th>char_34</th>\n      <th>char_35</th>\n      <th>char_36</th>\n      <th>char_37</th>\n      <th>char_38</th>\n    </tr>\n  </thead>\n  <tbody>\n    <tr>\n      <th>189113</th>\n      <td>ppl_99987</td>\n      <td>type 1</td>\n      <td>group 8600</td>\n      <td>type 1</td>\n      <td>2022-04-02</td>\n      <td>type 4</td>\n      <td>type 6</td>\n      <td>type 4</td>\n      <td>type 3</td>\n      <td>type 11</td>\n      <td>...</td>\n      <td>False</td>\n      <td>False</td>\n      <td>False</td>\n      <td>True</td>\n      <td>False</td>\n      <td>True</td>\n      <td>False</td>\n      <td>True</td>\n      <td>True</td>\n      <td>89</td>\n    </tr>\n    <tr>\n      <th>189114</th>\n      <td>ppl_9999</td>\n      <td>type 2</td>\n      <td>group 17304</td>\n      <td>type 2</td>\n      <td>2023-02-23</td>\n      <td>type 6</td>\n      <td>type 2</td>\n      <td>type 8</td>\n      <td>type 3</td>\n      <td>type 11</td>\n      <td>...</td>\n      <td>False</td>\n      <td>False</td>\n      <td>False</td>\n      <td>False</td>\n      <td>False</td>\n      <td>False</td>\n      <td>False</td>\n      <td>False</td>\n      <td>False</td>\n      <td>0</td>\n    </tr>\n    <tr>\n      <th>189115</th>\n      <td>ppl_99992</td>\n      <td>type 2</td>\n      <td>group 17304</td>\n      <td>type 2</td>\n      <td>2020-06-25</td>\n      <td>type 5</td>\n      <td>type 5</td>\n      <td>type 3</td>\n      <td>type 4</td>\n      <td>type 16</td>\n      <td>...</td>\n      <td>False</td>\n      <td>False</td>\n      <td>False</td>\n      <td>False</td>\n      <td>False</td>\n      <td>False</td>\n      <td>False</td>\n      <td>False</td>\n      <td>False</td>\n      <td>0</td>\n    </tr>\n    <tr>\n      <th>189116</th>\n      <td>ppl_99994</td>\n      <td>type 2</td>\n      <td>group 17764</td>\n      <td>type 3</td>\n      <td>2023-01-06</td>\n      <td>type 2</td>\n      <td>type 7</td>\n      <td>type 2</td>\n      <td>type 1</td>\n      <td>type 2</td>\n      <td>...</td>\n      <td>True</td>\n      <td>True</td>\n      <td>True</td>\n      <td>True</td>\n      <td>False</td>\n      <td>True</td>\n      <td>True</td>\n      <td>True</td>\n      <td>True</td>\n      <td>95</td>\n    </tr>\n    <tr>\n      <th>189117</th>\n      <td>ppl_99997</td>\n      <td>type 2</td>\n      <td>group 17304</td>\n      <td>type 2</td>\n      <td>2022-03-12</td>\n      <td>type 40</td>\n      <td>type 25</td>\n      <td>type 9</td>\n      <td>type 3</td>\n      <td>type 8</td>\n      <td>...</td>\n      <td>False</td>\n      <td>False</td>\n      <td>False</td>\n      <td>False</td>\n      <td>False</td>\n      <td>False</td>\n      <td>False</td>\n      <td>False</td>\n      <td>False</td>\n      <td>36</td>\n    </tr>\n  </tbody>\n</table>\n<p>5 rows × 41 columns</p>\n</div>"
     },
     "execution_count": 28,
     "metadata": {},
     "output_type": "execute_result"
    }
   ],
   "source": [
    "people.tail()"
   ],
   "metadata": {
    "collapsed": false,
    "ExecuteTime": {
     "end_time": "2023-10-01T19:54:57.047048212Z",
     "start_time": "2023-10-01T19:54:56.865789388Z"
    }
   }
  },
  {
   "cell_type": "code",
   "execution_count": 30,
   "outputs": [
    {
     "name": "stdout",
     "output_type": "stream",
     "text": [
      "The length of the train row: 189118\n",
      "The length of the train column: 41\n"
     ]
    }
   ],
   "source": [
    "row, col = people.shape\n",
    "print('The length of the train row:', row)\n",
    "print('The length of the train column:', col)"
   ],
   "metadata": {
    "collapsed": false,
    "ExecuteTime": {
     "end_time": "2023-10-01T19:56:58.264054915Z",
     "start_time": "2023-10-01T19:56:58.143990412Z"
    }
   }
  },
  {
   "cell_type": "code",
   "execution_count": 31,
   "outputs": [
    {
     "name": "stdout",
     "output_type": "stream",
     "text": [
      "<class 'pandas.core.frame.DataFrame'>\n",
      "RangeIndex: 189118 entries, 0 to 189117\n",
      "Data columns (total 41 columns):\n",
      " #   Column     Non-Null Count   Dtype \n",
      "---  ------     --------------   ----- \n",
      " 0   people_id  189118 non-null  object\n",
      " 1   char_1     189118 non-null  object\n",
      " 2   group_1    189118 non-null  object\n",
      " 3   char_2     189118 non-null  object\n",
      " 4   date       189118 non-null  object\n",
      " 5   char_3     189118 non-null  object\n",
      " 6   char_4     189118 non-null  object\n",
      " 7   char_5     189118 non-null  object\n",
      " 8   char_6     189118 non-null  object\n",
      " 9   char_7     189118 non-null  object\n",
      " 10  char_8     189118 non-null  object\n",
      " 11  char_9     189118 non-null  object\n",
      " 12  char_10    189118 non-null  bool  \n",
      " 13  char_11    189118 non-null  bool  \n",
      " 14  char_12    189118 non-null  bool  \n",
      " 15  char_13    189118 non-null  bool  \n",
      " 16  char_14    189118 non-null  bool  \n",
      " 17  char_15    189118 non-null  bool  \n",
      " 18  char_16    189118 non-null  bool  \n",
      " 19  char_17    189118 non-null  bool  \n",
      " 20  char_18    189118 non-null  bool  \n",
      " 21  char_19    189118 non-null  bool  \n",
      " 22  char_20    189118 non-null  bool  \n",
      " 23  char_21    189118 non-null  bool  \n",
      " 24  char_22    189118 non-null  bool  \n",
      " 25  char_23    189118 non-null  bool  \n",
      " 26  char_24    189118 non-null  bool  \n",
      " 27  char_25    189118 non-null  bool  \n",
      " 28  char_26    189118 non-null  bool  \n",
      " 29  char_27    189118 non-null  bool  \n",
      " 30  char_28    189118 non-null  bool  \n",
      " 31  char_29    189118 non-null  bool  \n",
      " 32  char_30    189118 non-null  bool  \n",
      " 33  char_31    189118 non-null  bool  \n",
      " 34  char_32    189118 non-null  bool  \n",
      " 35  char_33    189118 non-null  bool  \n",
      " 36  char_34    189118 non-null  bool  \n",
      " 37  char_35    189118 non-null  bool  \n",
      " 38  char_36    189118 non-null  bool  \n",
      " 39  char_37    189118 non-null  bool  \n",
      " 40  char_38    189118 non-null  int64 \n",
      "dtypes: bool(28), int64(1), object(12)\n",
      "memory usage: 23.8+ MB\n"
     ]
    }
   ],
   "source": [
    "people.info()"
   ],
   "metadata": {
    "collapsed": false,
    "ExecuteTime": {
     "end_time": "2023-10-01T19:57:09.668672808Z",
     "start_time": "2023-10-01T19:57:09.583298541Z"
    }
   }
  },
  {
   "cell_type": "code",
   "execution_count": 32,
   "outputs": [
    {
     "data": {
      "text/plain": "people_id    0.0\nchar_1       0.0\ngroup_1      0.0\nchar_2       0.0\ndate         0.0\nchar_3       0.0\nchar_4       0.0\nchar_5       0.0\nchar_6       0.0\nchar_7       0.0\nchar_8       0.0\nchar_9       0.0\nchar_10      0.0\nchar_11      0.0\nchar_12      0.0\nchar_13      0.0\nchar_14      0.0\nchar_15      0.0\nchar_16      0.0\nchar_17      0.0\nchar_18      0.0\nchar_19      0.0\nchar_20      0.0\nchar_21      0.0\nchar_22      0.0\nchar_23      0.0\nchar_24      0.0\nchar_25      0.0\nchar_26      0.0\nchar_27      0.0\nchar_28      0.0\nchar_29      0.0\nchar_30      0.0\nchar_31      0.0\nchar_32      0.0\nchar_33      0.0\nchar_34      0.0\nchar_35      0.0\nchar_36      0.0\nchar_37      0.0\nchar_38      0.0\ndtype: float64"
     },
     "execution_count": 32,
     "metadata": {},
     "output_type": "execute_result"
    }
   ],
   "source": [
    "people.isna().sum() / people.shape[0]"
   ],
   "metadata": {
    "collapsed": false,
    "ExecuteTime": {
     "end_time": "2023-10-01T19:58:02.689431238Z",
     "start_time": "2023-10-01T19:58:02.528047233Z"
    }
   }
  },
  {
   "cell_type": "code",
   "execution_count": 38,
   "outputs": [
    {
     "data": {
      "text/plain": "people_id            2197291\nactivity_id          2197291\ndate                 2197291\nactivity_category    2197291\nchar_1               2197291\nchar_2               2197291\nchar_3               2197291\nchar_4               2197291\nchar_5               2197291\nchar_6               2197291\nchar_7               2197291\nchar_8               2197291\nchar_9               2197291\nchar_10              2197291\noutcome              2197291\ndtype: int64"
     },
     "execution_count": 38,
     "metadata": {},
     "output_type": "execute_result"
    }
   ],
   "source": [
    "train.isna().count()"
   ],
   "metadata": {
    "collapsed": false,
    "ExecuteTime": {
     "end_time": "2023-10-01T20:04:23.620464204Z",
     "start_time": "2023-10-01T20:04:23.469200578Z"
    }
   }
  },
  {
   "cell_type": "markdown",
   "source": [
    "<p>Let's merge the people data with the train data using the peeple_id as key</p?"
   ],
   "metadata": {
    "collapsed": false
   }
  },
  {
   "cell_type": "code",
   "execution_count": 41,
   "outputs": [],
   "source": [
    "train_merged = pd.merge(train, people, on=\"people_id\")"
   ],
   "metadata": {
    "collapsed": false,
    "ExecuteTime": {
     "end_time": "2023-10-01T20:14:32.783345470Z",
     "start_time": "2023-10-01T20:14:26.267070720Z"
    }
   }
  },
  {
   "cell_type": "code",
   "execution_count": 42,
   "outputs": [
    {
     "data": {
      "text/plain": "  people_id   activity_id      date_x activity_category char_1_x char_2_x  \\\n0   ppl_100  act2_1734928  2023-08-26            type 4      NaN      NaN   \n1   ppl_100  act2_2434093  2022-09-27            type 2      NaN      NaN   \n2   ppl_100  act2_3404049  2022-09-27            type 2      NaN      NaN   \n3   ppl_100  act2_3651215  2023-08-04            type 2      NaN      NaN   \n4   ppl_100  act2_4109017  2023-08-26            type 2      NaN      NaN   \n\n  char_3_x char_4_x char_5_x char_6_x  ... char_29 char_30 char_31 char_32  \\\n0      NaN      NaN      NaN      NaN  ...   False    True    True   False   \n1      NaN      NaN      NaN      NaN  ...   False    True    True   False   \n2      NaN      NaN      NaN      NaN  ...   False    True    True   False   \n3      NaN      NaN      NaN      NaN  ...   False    True    True   False   \n4      NaN      NaN      NaN      NaN  ...   False    True    True   False   \n\n   char_33 char_34 char_35 char_36 char_37 char_38  \n0    False    True    True    True   False      36  \n1    False    True    True    True   False      36  \n2    False    True    True    True   False      36  \n3    False    True    True    True   False      36  \n4    False    True    True    True   False      36  \n\n[5 rows x 55 columns]",
      "text/html": "<div>\n<style scoped>\n    .dataframe tbody tr th:only-of-type {\n        vertical-align: middle;\n    }\n\n    .dataframe tbody tr th {\n        vertical-align: top;\n    }\n\n    .dataframe thead th {\n        text-align: right;\n    }\n</style>\n<table border=\"1\" class=\"dataframe\">\n  <thead>\n    <tr style=\"text-align: right;\">\n      <th></th>\n      <th>people_id</th>\n      <th>activity_id</th>\n      <th>date_x</th>\n      <th>activity_category</th>\n      <th>char_1_x</th>\n      <th>char_2_x</th>\n      <th>char_3_x</th>\n      <th>char_4_x</th>\n      <th>char_5_x</th>\n      <th>char_6_x</th>\n      <th>...</th>\n      <th>char_29</th>\n      <th>char_30</th>\n      <th>char_31</th>\n      <th>char_32</th>\n      <th>char_33</th>\n      <th>char_34</th>\n      <th>char_35</th>\n      <th>char_36</th>\n      <th>char_37</th>\n      <th>char_38</th>\n    </tr>\n  </thead>\n  <tbody>\n    <tr>\n      <th>0</th>\n      <td>ppl_100</td>\n      <td>act2_1734928</td>\n      <td>2023-08-26</td>\n      <td>type 4</td>\n      <td>NaN</td>\n      <td>NaN</td>\n      <td>NaN</td>\n      <td>NaN</td>\n      <td>NaN</td>\n      <td>NaN</td>\n      <td>...</td>\n      <td>False</td>\n      <td>True</td>\n      <td>True</td>\n      <td>False</td>\n      <td>False</td>\n      <td>True</td>\n      <td>True</td>\n      <td>True</td>\n      <td>False</td>\n      <td>36</td>\n    </tr>\n    <tr>\n      <th>1</th>\n      <td>ppl_100</td>\n      <td>act2_2434093</td>\n      <td>2022-09-27</td>\n      <td>type 2</td>\n      <td>NaN</td>\n      <td>NaN</td>\n      <td>NaN</td>\n      <td>NaN</td>\n      <td>NaN</td>\n      <td>NaN</td>\n      <td>...</td>\n      <td>False</td>\n      <td>True</td>\n      <td>True</td>\n      <td>False</td>\n      <td>False</td>\n      <td>True</td>\n      <td>True</td>\n      <td>True</td>\n      <td>False</td>\n      <td>36</td>\n    </tr>\n    <tr>\n      <th>2</th>\n      <td>ppl_100</td>\n      <td>act2_3404049</td>\n      <td>2022-09-27</td>\n      <td>type 2</td>\n      <td>NaN</td>\n      <td>NaN</td>\n      <td>NaN</td>\n      <td>NaN</td>\n      <td>NaN</td>\n      <td>NaN</td>\n      <td>...</td>\n      <td>False</td>\n      <td>True</td>\n      <td>True</td>\n      <td>False</td>\n      <td>False</td>\n      <td>True</td>\n      <td>True</td>\n      <td>True</td>\n      <td>False</td>\n      <td>36</td>\n    </tr>\n    <tr>\n      <th>3</th>\n      <td>ppl_100</td>\n      <td>act2_3651215</td>\n      <td>2023-08-04</td>\n      <td>type 2</td>\n      <td>NaN</td>\n      <td>NaN</td>\n      <td>NaN</td>\n      <td>NaN</td>\n      <td>NaN</td>\n      <td>NaN</td>\n      <td>...</td>\n      <td>False</td>\n      <td>True</td>\n      <td>True</td>\n      <td>False</td>\n      <td>False</td>\n      <td>True</td>\n      <td>True</td>\n      <td>True</td>\n      <td>False</td>\n      <td>36</td>\n    </tr>\n    <tr>\n      <th>4</th>\n      <td>ppl_100</td>\n      <td>act2_4109017</td>\n      <td>2023-08-26</td>\n      <td>type 2</td>\n      <td>NaN</td>\n      <td>NaN</td>\n      <td>NaN</td>\n      <td>NaN</td>\n      <td>NaN</td>\n      <td>NaN</td>\n      <td>...</td>\n      <td>False</td>\n      <td>True</td>\n      <td>True</td>\n      <td>False</td>\n      <td>False</td>\n      <td>True</td>\n      <td>True</td>\n      <td>True</td>\n      <td>False</td>\n      <td>36</td>\n    </tr>\n  </tbody>\n</table>\n<p>5 rows × 55 columns</p>\n</div>"
     },
     "execution_count": 42,
     "metadata": {},
     "output_type": "execute_result"
    }
   ],
   "source": [
    "train_merged.head()"
   ],
   "metadata": {
    "collapsed": false,
    "ExecuteTime": {
     "end_time": "2023-10-01T20:14:39.980722982Z",
     "start_time": "2023-10-01T20:14:39.818862833Z"
    }
   }
  },
  {
   "cell_type": "code",
   "execution_count": null,
   "outputs": [],
   "source": [],
   "metadata": {
    "collapsed": false
   }
  }
 ],
 "metadata": {
  "kernelspec": {
   "display_name": "Python 3",
   "language": "python",
   "name": "python3"
  },
  "language_info": {
   "codemirror_mode": {
    "name": "ipython",
    "version": 3
   },
   "file_extension": ".py",
   "mimetype": "text/x-python",
   "name": "python",
   "nbconvert_exporter": "python",
   "pygments_lexer": "ipython3",
   "version": "3.10.12"
  },
  "orig_nbformat": 4
 },
 "nbformat": 4,
 "nbformat_minor": 2
}
